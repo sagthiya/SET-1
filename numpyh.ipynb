{
 "cells": [
  {
   "cell_type": "code",
   "execution_count": 44,
   "id": "d6d3521a",
   "metadata": {},
   "outputs": [],
   "source": [
    "import numpy as np"
   ]
  },
  {
   "cell_type": "code",
   "execution_count": 45,
   "id": "ec1eac0a",
   "metadata": {},
   "outputs": [
    {
     "name": "stdout",
     "output_type": "stream",
     "text": [
      "[1 2 3 4 5 6 7 8 9]\n",
      "[[ 4 15  5]\n",
      " [87  9 95]]\n"
     ]
    }
   ],
   "source": [
    "#create array\n",
    "a=np.array([1,2,3,4,5,6,7,8,9])\n",
    "b=np.array([[4,15,5],[87,9,95]])\n",
    "print(a)\n",
    "print(b)"
   ]
  },
  {
   "cell_type": "code",
   "execution_count": 46,
   "id": "0d5a6c1f",
   "metadata": {},
   "outputs": [
    {
     "name": "stdout",
     "output_type": "stream",
     "text": [
      "[array([[ 4, 15,  5]]), array([[87,  9, 95]])]\n"
     ]
    }
   ],
   "source": [
    "vnew=np.vsplit(b,2)\n",
    "print(vnew)"
   ]
  },
  {
   "cell_type": "code",
   "execution_count": 47,
   "id": "f3a75b49",
   "metadata": {},
   "outputs": [
    {
     "name": "stdout",
     "output_type": "stream",
     "text": [
      "(9,)\n",
      "(2, 3)\n"
     ]
    }
   ],
   "source": [
    "#return shape of a array\n",
    "print(format(a.shape))\n",
    "print(format(b.shape))"
   ]
  },
  {
   "cell_type": "code",
   "execution_count": 48,
   "id": "0739dc99",
   "metadata": {},
   "outputs": [
    {
     "name": "stdout",
     "output_type": "stream",
     "text": [
      "1\n",
      "2\n"
     ]
    }
   ],
   "source": [
    "#return dimension of array \n",
    "print(a.ndim)\n",
    "print(b.ndim)"
   ]
  },
  {
   "cell_type": "code",
   "execution_count": 49,
   "id": "37bf775a",
   "metadata": {},
   "outputs": [
    {
     "name": "stdout",
     "output_type": "stream",
     "text": [
      "9\n"
     ]
    }
   ],
   "source": [
    "#return size of array\n",
    "print(format(a.size))"
   ]
  },
  {
   "cell_type": "code",
   "execution_count": 50,
   "id": "f11ea6e6",
   "metadata": {},
   "outputs": [
    {
     "name": "stdout",
     "output_type": "stream",
     "text": [
      "int64\n"
     ]
    }
   ],
   "source": [
    "#return data type of array\n",
    "print(a.dtype)"
   ]
  },
  {
   "cell_type": "code",
   "execution_count": 51,
   "id": "227b1840",
   "metadata": {},
   "outputs": [
    {
     "name": "stdout",
     "output_type": "stream",
     "text": [
      "8\n"
     ]
    }
   ],
   "source": [
    "#return item size of array\n",
    "print(a.itemsize)"
   ]
  },
  {
   "cell_type": "code",
   "execution_count": 52,
   "id": "4e7ce5dc",
   "metadata": {},
   "outputs": [
    {
     "name": "stdout",
     "output_type": "stream",
     "text": [
      "<memory at 0x0000023C51432BC0>\n"
     ]
    }
   ],
   "source": [
    "#return data of mamaory location array\n",
    "print(a.data)"
   ]
  },
  {
   "cell_type": "code",
   "execution_count": 53,
   "id": "db0591f0",
   "metadata": {},
   "outputs": [
    {
     "name": "stdout",
     "output_type": "stream",
     "text": [
      "[5 6 7]\n",
      "[[95]]\n"
     ]
    }
   ],
   "source": [
    "#return slice of array\n",
    "slicearra=a[4:7]\n",
    "slicearrb=b[1:,2:]\n",
    "print(slicearra)\n",
    "print(slicearrb)"
   ]
  },
  {
   "cell_type": "code",
   "execution_count": 54,
   "id": "1de43e53",
   "metadata": {},
   "outputs": [
    {
     "name": "stdout",
     "output_type": "stream",
     "text": [
      "45\n",
      "215\n"
     ]
    }
   ],
   "source": [
    "#return sum of array\n",
    "print(a.sum())\n",
    "print(b.sum())"
   ]
  },
  {
   "cell_type": "code",
   "execution_count": 55,
   "id": "339f7a05",
   "metadata": {},
   "outputs": [
    {
     "name": "stdout",
     "output_type": "stream",
     "text": [
      "[[1 2]\n",
      " [3 4]]\n",
      "[[6 7]\n",
      " [8 9]]\n",
      "[[22 25]\n",
      " [50 57]]\n"
     ]
    }
   ],
   "source": [
    "#opration of matrix create a new array \n",
    "m1=np.array([[1,2],[3,4]])\n",
    "m2=np.array([[6,7],[8,9]])\n",
    "print(m1)\n",
    "print(m2)\n",
    "\n",
    "# cross multiply of matrix  \n",
    "mul = np.dot(m1,m2)\n",
    "print(mul)"
   ]
  },
  {
   "cell_type": "code",
   "execution_count": 56,
   "id": "6c9fe313",
   "metadata": {},
   "outputs": [
    {
     "name": "stdout",
     "output_type": "stream",
     "text": [
      "[[ 6 14]\n",
      " [24 36]]\n"
     ]
    }
   ],
   "source": [
    "# row column multipication\n",
    "mulM=np.multiply(m1,m2)\n",
    "print(mulM)"
   ]
  },
  {
   "cell_type": "code",
   "execution_count": 57,
   "id": "16e76fd3",
   "metadata": {},
   "outputs": [
    {
     "name": "stdout",
     "output_type": "stream",
     "text": [
      "[[ 7  9]\n",
      " [11 13]]\n"
     ]
    }
   ],
   "source": [
    "#add of matrix\n",
    "addM= np.add(m1,m2)\n",
    "print(addM)"
   ]
  },
  {
   "cell_type": "code",
   "execution_count": 58,
   "id": "60f8f849",
   "metadata": {},
   "outputs": [
    {
     "name": "stdout",
     "output_type": "stream",
     "text": [
      "[[-5 -5]\n",
      " [-5 -5]]\n"
     ]
    }
   ],
   "source": [
    "#sub of matrix\n",
    "subM= np.subtract(m1,m2)\n",
    "print(subM)"
   ]
  },
  {
   "cell_type": "code",
   "execution_count": 59,
   "id": "715a0704",
   "metadata": {},
   "outputs": [
    {
     "name": "stdout",
     "output_type": "stream",
     "text": [
      "[[1 2 3]\n",
      " [4 5 6]\n",
      " [7 8 9]]\n"
     ]
    }
   ],
   "source": [
    "#convert array to matrex\n",
    "M3=np.array([1,2,3,4,5,6,7,8,9])\n",
    "m3=M3.reshape(3,3)\n",
    "print(m3)"
   ]
  },
  {
   "cell_type": "code",
   "execution_count": 60,
   "id": "874c6cf5",
   "metadata": {},
   "outputs": [
    {
     "name": "stdout",
     "output_type": "stream",
     "text": [
      "1\n"
     ]
    }
   ],
   "source": [
    "# find minimum value of matrix\n",
    "print(m3.min())"
   ]
  },
  {
   "cell_type": "code",
   "execution_count": 61,
   "id": "10b93ce6",
   "metadata": {},
   "outputs": [
    {
     "name": "stdout",
     "output_type": "stream",
     "text": [
      "9\n"
     ]
    }
   ],
   "source": [
    "# find maximum value of matrix\n",
    "print(m3.max())"
   ]
  },
  {
   "cell_type": "code",
   "execution_count": 62,
   "id": "025d16f7",
   "metadata": {},
   "outputs": [
    {
     "name": "stdout",
     "output_type": "stream",
     "text": [
      "[1 4 7]\n"
     ]
    }
   ],
   "source": [
    "# find minimum value of each row \n",
    "print(m3.min(axis=1))\n"
   ]
  },
  {
   "cell_type": "code",
   "execution_count": 63,
   "id": "eca3eb9c",
   "metadata": {},
   "outputs": [
    {
     "name": "stdout",
     "output_type": "stream",
     "text": [
      "[1 2 3]\n"
     ]
    }
   ],
   "source": [
    "# find minimum value of each column \n",
    "print(m3.min(axis=0))\n"
   ]
  },
  {
   "cell_type": "code",
   "execution_count": 64,
   "id": "9d8f0c53",
   "metadata": {},
   "outputs": [
    {
     "name": "stdout",
     "output_type": "stream",
     "text": [
      "[3 6 9]\n"
     ]
    }
   ],
   "source": [
    "# find maxmum value of each row \n",
    "print(m3.max(axis=1))\n"
   ]
  },
  {
   "cell_type": "code",
   "execution_count": 65,
   "id": "4bf58b98",
   "metadata": {},
   "outputs": [
    {
     "name": "stdout",
     "output_type": "stream",
     "text": [
      "[7 8 9]\n"
     ]
    }
   ],
   "source": [
    "# find maxmum value of each column \n",
    "print(m3.max(axis=0))\n"
   ]
  },
  {
   "cell_type": "code",
   "execution_count": 66,
   "id": "a08adcc9",
   "metadata": {},
   "outputs": [
    {
     "name": "stdout",
     "output_type": "stream",
     "text": [
      "[[11.  2.  3.]\n",
      " [ 4.  7.  9.]]\n"
     ]
    }
   ],
   "source": [
    "m4=np.array([[121,4,9],[16,49,81]])\n",
    "\n",
    "# find a squre root of matrix\n",
    "print(np.sqrt(m4))"
   ]
  },
  {
   "cell_type": "code",
   "execution_count": 67,
   "id": "996df927",
   "metadata": {},
   "outputs": [
    {
     "name": "stdout",
     "output_type": "stream",
     "text": [
      "2.581988897471611\n"
     ]
    }
   ],
   "source": [
    "#print standard deviation ofn matrix \n",
    "print(np.std(a))"
   ]
  },
  {
   "cell_type": "code",
   "execution_count": 68,
   "id": "c9f95c04",
   "metadata": {},
   "outputs": [
    {
     "name": "stdout",
     "output_type": "stream",
     "text": [
      "[[1 2]\n",
      " [3 4]\n",
      " [6 7]\n",
      " [8 9]]\n"
     ]
    }
   ],
   "source": [
    "#create vertical stack\n",
    "v=np.vstack((m1,m2))\n",
    "print(v)"
   ]
  },
  {
   "cell_type": "code",
   "execution_count": 69,
   "id": "5366dfe0",
   "metadata": {},
   "outputs": [
    {
     "name": "stdout",
     "output_type": "stream",
     "text": [
      "[[1 2 6 7]\n",
      " [3 4 8 9]]\n"
     ]
    }
   ],
   "source": [
    "#create vertical stack\n",
    "h=np.hstack((m1,m2))\n",
    "print(h)"
   ]
  },
  {
   "cell_type": "code",
   "execution_count": 70,
   "id": "c7280241",
   "metadata": {},
   "outputs": [
    {
     "name": "stdout",
     "output_type": "stream",
     "text": [
      "[ 0  2  4  6  8 10 12 14 16 18]\n"
     ]
    }
   ],
   "source": [
    "# provide a range between the number\n",
    "rang=np.arange(0,20,2)\n",
    "print(rang)"
   ]
  },
  {
   "cell_type": "code",
   "execution_count": 71,
   "id": "c2dd69ba",
   "metadata": {},
   "outputs": [
    {
     "name": "stdout",
     "output_type": "stream",
     "text": [
      "[ 0.  2.  4.  6.  8. 10. 12. 14. 16. 18.] float64\n"
     ]
    }
   ],
   "source": [
    "# provide a range between the number\n",
    "rang=np.arange(0,20,2,float)\n",
    "print(rang,rang.dtype)"
   ]
  },
  {
   "cell_type": "code",
   "execution_count": 72,
   "id": "0b5f9590",
   "metadata": {},
   "outputs": [
    {
     "name": "stdout",
     "output_type": "stream",
     "text": [
      "[ 0.  12.5 25.  37.5 50. ]\n"
     ]
    }
   ],
   "source": [
    "# divide number of this range in given part\n",
    "divide=np.linspace(0,50,5)\n",
    "print(divide)\n"
   ]
  },
  {
   "cell_type": "code",
   "execution_count": 73,
   "id": "9c3affb2",
   "metadata": {},
   "outputs": [
    {
     "name": "stdout",
     "output_type": "stream",
     "text": [
      "[[1 3]\n",
      " [2 4]\n",
      " [6 8]\n",
      " [7 9]]\n"
     ]
    }
   ],
   "source": [
    "#convert horizontal to vertical\n",
    "ht=h.T\n",
    "print(ht)"
   ]
  },
  {
   "cell_type": "code",
   "execution_count": 74,
   "id": "a519bc80",
   "metadata": {},
   "outputs": [
    {
     "name": "stdout",
     "output_type": "stream",
     "text": [
      "[[1 3 6 8]\n",
      " [2 4 7 9]]\n"
     ]
    }
   ],
   "source": [
    "#convert vertical to horizontal\n",
    "vt=v.T\n",
    "print(vt)\n"
   ]
  },
  {
   "cell_type": "code",
   "execution_count": 75,
   "id": "734bad40",
   "metadata": {},
   "outputs": [
    {
     "name": "stdout",
     "output_type": "stream",
     "text": [
      "1\n",
      "2\n",
      "3\n",
      "4\n",
      "5\n",
      "6\n",
      "7\n",
      "8\n",
      "9\n"
     ]
    }
   ],
   "source": [
    "# print each element of array\n",
    "for i in np.nditer(a):\n",
    "    print(i)"
   ]
  },
  {
   "cell_type": "code",
   "execution_count": 89,
   "id": "490a11f1",
   "metadata": {},
   "outputs": [
    {
     "name": "stdout",
     "output_type": "stream",
     "text": [
      "[array([[ 4],\n",
      "       [17],\n",
      "       [ 6],\n",
      "       [47]]), array([[ 5],\n",
      "       [ 8],\n",
      "       [54],\n",
      "       [95]]), array([[ 2],\n",
      "       [ 9],\n",
      "       [52],\n",
      "       [10]])]\n",
      "[array([[ 4,  5,  2],\n",
      "       [17,  8,  9]]), array([[ 6, 54, 52],\n",
      "       [47, 95, 10]])]\n"
     ]
    }
   ],
   "source": [
    "ab=np.array([[4,5,2],[17,8,9],[6,54,52],[47,95,10]])\n",
    "\n",
    "#split the array horizontal\n",
    "h_split=np.hsplit(ab,3)\n",
    "print(h_split)\n",
    "\n",
    "#split the array vertically\n",
    "v_split=np.vsplit(ab,2)\n",
    "print(v_split)"
   ]
  },
  {
   "cell_type": "code",
   "execution_count": 91,
   "id": "39a15816-ce45-4755-8e57-ea550087435c",
   "metadata": {},
   "outputs": [
    {
     "name": "stdout",
     "output_type": "stream",
     "text": [
      "[7.34846923 9.43398113 5.65685425 7.34846923]\n",
      "[2.83075330e+23 4.48961282e+38 7.89629602e+13 2.83075330e+23]\n",
      "[-0.55878905  0.86006941  0.55142668 -0.55878905]\n",
      "[-0.82930983  0.51017704  0.83422336 -0.82930983]\n",
      "[3.98898405 4.48863637 3.4657359  3.98898405]\n",
      "229\n",
      "20.41292482717751\n"
     ]
    }
   ],
   "source": [
    "abc=np.array([54,89,32,54])\n",
    "#return the square root of each element\n",
    "print(np.sqrt(abc))\n",
    "\n",
    "#return the exponentials of each element\n",
    "print(np.exp(abc))\n",
    "\n",
    "#return the sin of each element\n",
    "print(np.sin(abc))\n",
    "\n",
    "#return the cos of each element\n",
    "print(np.cos(abc))\n",
    "\n",
    "#return the log of each element\n",
    "print(np.log(abc))\n",
    "\n",
    "#return the sum of total element of array\n",
    "print(np.sum(abc))\n",
    "\n",
    "#return the standard deviation of in the array\n",
    "print(np.std(abc))"
   ]
  },
  {
   "cell_type": "code",
   "execution_count": 104,
   "id": "15320bac-a399-4d9a-91a3-441105b60765",
   "metadata": {},
   "outputs": [
    {
     "name": "stdout",
     "output_type": "stream",
     "text": [
      "[0.31007285 0.29452194 0.06989604 0.39552828 0.68638012]\n"
     ]
    }
   ],
   "source": [
    "# random number genrator in floats\n",
    "anw=np.random.random(5);\n",
    "print(anw)"
   ]
  },
  {
   "cell_type": "code",
   "execution_count": 105,
   "id": "b0ca6b92-b4bb-41d6-b7b7-28b057527179",
   "metadata": {},
   "outputs": [
    {
     "name": "stdout",
     "output_type": "stream",
     "text": [
      "[[0.14389071 0.98923476 0.82339383 0.51859406]\n",
      " [0.90050045 0.56069906 0.23707381 0.31702007]\n",
      " [0.13445463 0.9051147  0.86784302 0.49052162]]\n"
     ]
    }
   ],
   "source": [
    "# random number genrator in given range\n",
    "ran=np.random.rand(3,4)\n",
    "print(ran)\n"
   ]
  },
  {
   "cell_type": "code",
   "execution_count": 106,
   "id": "ec4ee1b9-885a-4648-8cbf-e0f6e1a37599",
   "metadata": {},
   "outputs": [
    {
     "name": "stdout",
     "output_type": "stream",
     "text": [
      "[41 48 44 41 17]\n"
     ]
    }
   ],
   "source": [
    "# random in integer by range \n",
    "inte=np.random.randint(0,50,5)\n",
    "print(inte)"
   ]
  },
  {
   "cell_type": "code",
   "execution_count": 108,
   "id": "62ba46c5-2e9d-44ab-8f50-ec67e7c87d25",
   "metadata": {},
   "outputs": [
    {
     "name": "stdout",
     "output_type": "stream",
     "text": [
      "[3 1 2 0 4]\n"
     ]
    }
   ],
   "source": [
    "# random permutation of number\n",
    "per= np.random.permutation(np.arange(5))\n",
    "print(per)"
   ]
  },
  {
   "cell_type": "code",
   "execution_count": null,
   "id": "396de658-4736-4b17-803e-1c8145ab1b12",
   "metadata": {},
   "outputs": [],
   "source": []
  }
 ],
 "metadata": {
  "kernelspec": {
   "display_name": "Python 3 (ipykernel)",
   "language": "python",
   "name": "python3"
  },
  "language_info": {
   "codemirror_mode": {
    "name": "ipython",
    "version": 3
   },
   "file_extension": ".py",
   "mimetype": "text/x-python",
   "name": "python",
   "nbconvert_exporter": "python",
   "pygments_lexer": "ipython3",
   "version": "3.13.1"
  }
 },
 "nbformat": 4,
 "nbformat_minor": 5
}
